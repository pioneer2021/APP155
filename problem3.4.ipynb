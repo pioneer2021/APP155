{
 "cells": [
  {
   "cell_type": "code",
   "execution_count": null,
   "metadata": {},
   "outputs": [],
   "source": [
    "import numpy as np\n",
    "from math import exp, e\n",
    "from pylab import plot, xlabel, ylabel\n",
    "\n",
    "## INSERT GIVEN\n",
    "x0 = L/2\n",
    "L = 10**(-8)\n",
    "sigma = 1*10**(-10)\n",
    "kappa = 5*10**10\n",
    "M = 9.109*10**(-31)\n",
    "\n",
    "N = 1000\n",
    "a = L/N"
   ]
  },
  {
   "cell_type": "code",
   "execution_count": null,
   "metadata": {},
   "outputs": [],
   "source": [
    "## Create arrays\n",
    "psi = np.empty(N+1, float)\n",
    "psi[0] = exp(-((x-x0)**2)/2*(sigma**2))*e**i*kappa*x\n",
    "\n",
    "A*psi_tplus_h = B*psi\n",
    "A = np.array([a1], [a2])"
   ]
  },
  {
   "cell_type": "code",
   "execution_count": null,
   "metadata": {},
   "outputs": [],
   "source": []
  }
 ],
 "metadata": {
  "kernelspec": {
   "display_name": "Python 3.6",
   "language": "python",
   "name": "python36"
  },
  "language_info": {
   "codemirror_mode": {
    "name": "ipython",
    "version": 3
   },
   "file_extension": ".py",
   "mimetype": "text/x-python",
   "name": "python",
   "nbconvert_exporter": "python",
   "pygments_lexer": "ipython3",
   "version": "3.6.3"
  }
 },
 "nbformat": 4,
 "nbformat_minor": 2
}
