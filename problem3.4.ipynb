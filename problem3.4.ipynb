import numpy as np
from math import exp, e
from scipy.constants import hbar

## INSERT GIVEN
L = 10**(-8)
x0 = L/2
sigma = 1*10**(-10)
kappa = 5*10**10
m = 9.109*10**(-31)
h = 10**(-18)
N = 1000
a = L/N

## Create arrays
psi = np.empty(2, float)
#psi[0] = exp(-((x-x0)**2)/2*(sigma**2))*e**j*kappa*x

ihbar = 0 + 1.0545718001391127e-34j 

a1 = 1 + h*ihbar.imag / 2*m*a**2
a2 = -h*ihbar.imag / 4*m*a**2
b1 = 1 - h*ihbar.imag / 2*m*a**2
b2 = h*ihbar.imag / 4*m*a**2
A = np.array([[a1,a2],[a2,a1]], float)
B = np.array([[b1,b2],[b2,b1]], float)
#A*psi_tplus_h = B*psi

## First step

v = np.empty(2, float)
for i in range(N):
    v[i] = b1*psi[i] + b2*(psi[i+1] + psi[i-1])

## Second step: solve Ax = v for x

psi = np.linalg.solve(A,v)
print(psi)
